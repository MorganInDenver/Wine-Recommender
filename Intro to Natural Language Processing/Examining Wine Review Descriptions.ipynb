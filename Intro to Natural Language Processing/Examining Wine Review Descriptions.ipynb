{
 "cells": [
  {
   "cell_type": "markdown",
   "metadata": {},
   "source": [
    "## Notebook 4: Exploring the \"Description\" variable.\n",
    "\n",
    "### Project Goal: \n",
    "\n",
    "This project uses a Kaggle database of over 129,000 wine reviews from Wine Enthusiast/Wine Magazine. The data contains information related to variety, price, rating, and tasting notes. My desired outcome is to create a wine recommender that, when a user inputs a wine name, it will recommend a similar wine. The similarity will be based on variety, tasting notes, and price.\n",
    "\n",
    "### What's in This Notebook\n",
    "\n",
    "In this notebook, I begin examining the Description variable. My goal with this work is just to understand more what type of words may be used to describe specific varietals. \n",
    "\n",
    "KMeans Clustering. I used KMeans clustering on a sample of the descriptions (n=20000) and set it to 20 clusters to see whether the clusters seemed to match the 20 varietals in the dataset. The results were mixed, although some varietals are clearly identified by specific clusters. \n",
    "\n",
    "Next, I try out clustering to find just Red or White wine. It appears Red wine is easier to identify through the descriptions compared to white. "
   ]
  },
  {
   "cell_type": "code",
   "execution_count": 9,
   "metadata": {
    "collapsed": true
   },
   "outputs": [],
   "source": [
    "import pandas as pd\n",
    "import numpy as np\n",
    "import seaborn as sns\n",
    "import matplotlib.pyplot as plt\n",
    "import re\n",
    "from wordcloud import WordCloud, STOPWORDS\n",
    "from IPython.display import Image\n",
    "#from IPython.display import Image\n",
    "from os import path\n",
    "from sklearn.cluster import KMeans\n",
    "\n",
    "from nltk.tokenize import RegexpTokenizer\n",
    "from nltk.stem.snowball import SnowballStemmer\n",
    "from sklearn.feature_extraction.text import CountVectorizer, TfidfVectorizer\n",
    "from sklearn.feature_extraction import text \n",
    "from sklearn.metrics.pairwise import linear_kernel\n",
    "\n",
    "plt.style.use('fivethirtyeight')\n",
    "%matplotlib inline"
   ]
  },
  {
   "cell_type": "code",
   "execution_count": 10,
   "metadata": {
    "collapsed": true
   },
   "outputs": [],
   "source": [
    "from sklearn.linear_model import LogisticRegression\n",
    "from sklearn.pipeline import Pipeline\n",
    "from sklearn.preprocessing import FunctionTransformer\n",
    "from sklearn.model_selection import train_test_split, GridSearchCV, cross_val_predict, cross_val_score"
   ]
  },
  {
   "cell_type": "code",
   "execution_count": 11,
   "metadata": {
    "collapsed": true
   },
   "outputs": [],
   "source": [
    "pd.set_option('display.max_columns', 999)\n",
    "pd.set_option('display.max_colwidth', 999)"
   ]
  },
  {
   "cell_type": "code",
   "execution_count": 12,
   "metadata": {
    "collapsed": true
   },
   "outputs": [],
   "source": [
    "df = pd.read_csv('./datasets/wine.csv', index_col=0)"
   ]
  },
  {
   "cell_type": "code",
   "execution_count": 13,
   "metadata": {},
   "outputs": [
    {
     "data": {
      "text/plain": [
       "(73691, 14)"
      ]
     },
     "execution_count": 13,
     "metadata": {},
     "output_type": "execute_result"
    }
   ],
   "source": [
    "df.shape"
   ]
  },
  {
   "cell_type": "markdown",
   "metadata": {},
   "source": [
    "### KMeans Clustering on a Sample of the Descriptions"
   ]
  },
  {
   "cell_type": "code",
   "execution_count": 29,
   "metadata": {
    "collapsed": true
   },
   "outputs": [],
   "source": [
    "stemmer = SnowballStemmer('english')\n",
    "tokenizer = RegexpTokenizer(r'[a-zA-Z\\']+')\n",
    "\n",
    "def tokenize(text):\n",
    "    return [stemmer.stem(word) for word in tokenizer.tokenize(text.lower())]"
   ]
  },
  {
   "cell_type": "code",
   "execution_count": 30,
   "metadata": {
    "collapsed": true
   },
   "outputs": [],
   "source": [
    "from sklearn.feature_extraction.text import CountVectorizer, TfidfVectorizer\n",
    "from sklearn.feature_extraction import text "
   ]
  },
  {
   "cell_type": "code",
   "execution_count": 31,
   "metadata": {
    "collapsed": true
   },
   "outputs": [],
   "source": [
    "my_additional_stop_words = ['wine', 'flavor', 'flavors', 'notes', 'offers', 'enjoy', 'drink', 'bottling',\n",
    "                           'really', 'reveal', 'picked', 'partner', 'thanks', 'grown', 'gain', \n",
    "                           'thanks', 'percentage', 'buy', 'mid', 'gain', 'bottle', 'amid', 'available',\n",
    "                           'come', 'aspect', 'try', 'pinot', 'noir', 'chardonnay','cabernet', 'sauvignon',\n",
    "                            'red','white','bordeaux', 'riesling', 'blanc','syrah','merlot',\n",
    "                            'rose', 'zinfandel','malbec','nebbiolo','sangiovese', 'tempranillo','sparkling',\n",
    "                            'rhone','gris', 'riesling', 'sirah', 'petite', 'petit', 'make']\n",
    "stop_words = text.ENGLISH_STOP_WORDS.union(my_additional_stop_words)"
   ]
  },
  {
   "cell_type": "code",
   "execution_count": 34,
   "metadata": {
    "collapsed": true
   },
   "outputs": [],
   "source": [
    "from random import sample\n",
    "sample = df.sample(20000, random_state = 42)\n",
    "sample_desc = sample['description']"
   ]
  },
  {
   "cell_type": "code",
   "execution_count": 55,
   "metadata": {},
   "outputs": [],
   "source": [
    "sample['variety'].value_counts(); #still all 20 varietals represented"
   ]
  },
  {
   "cell_type": "code",
   "execution_count": 36,
   "metadata": {
    "collapsed": true
   },
   "outputs": [],
   "source": [
    "tf_vect = TfidfVectorizer(stop_words = stop_words, tokenizer=tokenize, max_features = 2000)\n",
    "X_sample = tf_vect.fit_transform(sample_desc)\n",
    "words_sample = tf_vect.get_feature_names()"
   ]
  },
  {
   "cell_type": "code",
   "execution_count": 37,
   "metadata": {},
   "outputs": [
    {
     "data": {
      "text/plain": [
       "KMeans(algorithm='auto', copy_x=True, init='k-means++', max_iter=300,\n",
       "    n_clusters=20, n_init=5, n_jobs=-1, precompute_distances='auto',\n",
       "    random_state=None, tol=0.0001, verbose=0)"
      ]
     },
     "execution_count": 37,
     "metadata": {},
     "output_type": "execute_result"
    }
   ],
   "source": [
    "kmeans = KMeans(n_clusters = 20, n_init = 5, n_jobs = -1)\n",
    "kmeans.fit(X_sample)"
   ]
  },
  {
   "cell_type": "code",
   "execution_count": 38,
   "metadata": {},
   "outputs": [
    {
     "name": "stdout",
     "output_type": "stream",
     "text": [
      "0 : palat, tannin, alongsid, black, cherri, aroma, offer, berri, licoric, firm, spice, pepper, open, note, whiff\n",
      "1 : wood, age, fruit, rich, ripe, tannin, black, acid, structur, year, balanc, spice, firm, charact, juici\n",
      "2 : fruiti, attract, readi, soft, fruit, ripe, acid, tannin, light, juici, fresh, aftertast, berri, charact, round\n",
      "3 : oak, new, french, age, barrel, fruit, month, american, ferment, cherri, year, spent, toast, vineyard, note\n",
      "4 : pineappl, butter, toast, vanilla, acid, sweet, oak, rich, peach, mango, fruit, ripe, orang, crisp, tropic\n",
      "5 : citrus, fruit, finish, peach, tropic, palat, aroma, melon, fresh, note, acid, nose, pear, stone, clean\n",
      "6 : appl, pear, green, palat, finish, fresh, lemon, aroma, acid, nose, note, fruit, light, citrus, peach\n",
      "7 : crisp, acid, fruiti, textur, fresh, bright, charact, fruit, light, miner, aftertast, tight, live, citrus, tangi\n",
      "8 : herb, aroma, fruit, spice, barrel, follow, lead, bring, cherri, dark, vanilla, note, appeal, coffe, tannin\n",
      "9 : structur, fruit, tannin, firm, age, rich, dens, concentr, black, ripe, acid, power, dark, year, solid\n",
      "10 : lemon, lime, riesl, dri, palat, acid, finish, peach, miner, grapefruit, fresh, tangerin, honey, nose, note\n",
      "11 : currant, blackberri, year, tannin, dri, black, cherri, rich, oak, tannic, complex, cellar, veri, soft, fine\n",
      "12 : strawberri, ros, light, fruit, fresh, finish, cherri, acid, raspberri, pink, color, palat, dri, watermelon, blend\n",
      "13 : fruit, cherri, finish, vineyard, tannin, acid, blend, dri, spice, berri, raspberri, note, soft, aroma, complex\n",
      "14 : bodi, medium, textur, finish, aroma, cherri, fruit, light, note, tannin, ripe, like, soft, acid, dri\n",
      "15 : berri, herbal, plum, aroma, finish, feel, palat, note, oak, fruit, earthi, spice, spici, rubberi, tast\n",
      "16 : black, nose, palat, cherri, pepper, plum, bottl, fruit, aroma, blackberri, spice, touch, blueberri, tannin, blend\n",
      "17 : sweet, cherri, soft, raspberri, simpl, tast, blackberri, like, candi, oak, jam, jammi, ripe, vanilla, alcohol\n",
      "18 : good, cherri, fruit, dri, acid, price, balanc, tannin, blackberri, rich, finish, oak, veri, berri, nice\n",
      "19 : chocol, dark, blackberri, finish, black, aroma, cherri, tannin, oak, ripe, cassi, fruit, spice, palat, rich\n"
     ]
    }
   ],
   "source": [
    "common_words = kmeans.cluster_centers_.argsort()[:,-1:-16:-1]\n",
    "for num, centroid in enumerate(common_words):\n",
    "    print(str(num) + ' : ' + ', '.join(words_sample[word] for word in centroid))"
   ]
  },
  {
   "cell_type": "code",
   "execution_count": 39,
   "metadata": {
    "collapsed": true
   },
   "outputs": [],
   "source": [
    "sample['cluster'] = kmeans.labels_"
   ]
  },
  {
   "cell_type": "markdown",
   "metadata": {},
   "source": [
    "### Heatmap\n",
    "\n",
    "This heatmap compares the clusters that KMeans identified versus the actual varietals. It's not perfect, but some varietals do come out prominently in specific cluters. Pinot Noir is present in cluster 13, Chardonnay in clusters 4-6, Riesling in cluster 10, Cabernet in 11.Some clusters capture several varietals. Cluster 0 gets at Nebiollo, Red Blends and Sangiovese. "
   ]
  },
  {
   "cell_type": "code",
   "execution_count": 40,
   "metadata": {},
   "outputs": [
    {
     "data": {
      "image/png": "[encoded data removed]",
      "text/plain": [
       "<matplotlib.figure.Figure at 0x1135b3c50>"
      ]
     },
     "metadata": {},
     "output_type": "display_data"
    }
   ],
   "source": [
    "clusters = sample.groupby(['cluster', 'variety']).size()\n",
    "fig2, ax2 = plt.subplots(figsize = (30, 15))\n",
    "sns.heatmap(clusters.unstack(level = 'variety'), ax = ax2, cmap = 'Reds')\n",
    "\n",
    "ax2.set_xlabel('variety', fontdict = {'weight': 'bold', 'size': 24})\n",
    "ax2.set_ylabel('cluster', fontdict = {'weight': 'bold', 'size': 24})\n",
    "for label in ax2.get_xticklabels():\n",
    "    label.set_size(16)\n",
    "    label.set_weight(\"bold\")\n",
    "for label in ax2.get_yticklabels():\n",
    "    label.set_size(16)\n",
    "    label.set_weight(\"bold\")"
   ]
  },
  {
   "cell_type": "markdown",
   "metadata": {},
   "source": [
    "### Examining Descriptions for Red and White\n",
    "\n",
    "The descriptions may not be great at identifying specific varietals, but perhaps they will fare better at identifying whether a wine is simply Red or White. In this section, I create a variable to identify whether the wine is Red or White, and do another Kmeans this time with two clusters. \n",
    "\n",
    "Common words in cluster zero (looks like white): apple, acid, fruit, finish, crisp, fresh, citrus, lemon, peach, light, palate, pear, miner, lime.\n",
    "\n",
    "Common words in cluster one (looks like red): cherries, fruit, tannin, black, aroma, berries, finish, spice, palate, blackberries, ripe, plum. \n",
    "\n",
    "Comparing the clusters to the reality shows that the descriptions appear to be very good at identifying Red wine, but not so much with the white wine. "
   ]
  },
  {
   "cell_type": "code",
   "execution_count": 41,
   "metadata": {
    "collapsed": true
   },
   "outputs": [],
   "source": [
    "RW_dict = {'Pinot Noir': 'Red', \n",
    "                  'Cabernet Sauvignon': 'Red', \n",
    "                  'Red Blend': 'Red',\n",
    "                  'Bordeaux-style Red Blend':'Red',\n",
    "                  'Syrah': 'Red', \n",
    "                  'Merlot':'Red', \n",
    "                  'Zinfandel':'Red', \n",
    "                  'Malbec': 'Red', \n",
    "                  'Nebbiolo': 'Red', \n",
    "                  'Sangiovese': 'Red',\n",
    "                  'Portuguese Red': 'Red', \n",
    "                  'Tempranillo': 'Red', \n",
    "                  'Rhône-style Red Blend': 'Red', \n",
    "                  'Chardonnay': 'White', \n",
    "                  'Riesling':'White', \n",
    "                  'Sauvignon Blanc': 'White', \n",
    "                  'Rosé': 'White', \n",
    "                  'White Blend': 'White', \n",
    "                  'Sparkling Blend': 'White', \n",
    "                  'Pinot Gris': 'White'}\n",
    "\n",
    "df['red_or_white']= df['variety'].map(RW_dict)"
   ]
  },
  {
   "cell_type": "code",
   "execution_count": 43,
   "metadata": {
    "scrolled": false
   },
   "outputs": [
    {
     "data": {
      "text/plain": [
       "Red      49452\n",
       "White    24239\n",
       "Name: red_or_white, dtype: int64"
      ]
     },
     "execution_count": 43,
     "metadata": {},
     "output_type": "execute_result"
    }
   ],
   "source": [
    "df['red_or_white'].value_counts()"
   ]
  },
  {
   "cell_type": "code",
   "execution_count": 44,
   "metadata": {
    "collapsed": true
   },
   "outputs": [],
   "source": [
    "sample2 = df.sample(n=20000)"
   ]
  },
  {
   "cell_type": "code",
   "execution_count": 45,
   "metadata": {
    "scrolled": true
   },
   "outputs": [
    {
     "data": {
      "text/plain": [
       "Red      13471\n",
       "White     6529\n",
       "Name: red_or_white, dtype: int64"
      ]
     },
     "execution_count": 45,
     "metadata": {},
     "output_type": "execute_result"
    }
   ],
   "source": [
    "sample2['red_or_white'].value_counts() "
   ]
  },
  {
   "cell_type": "code",
   "execution_count": 46,
   "metadata": {
    "collapsed": true
   },
   "outputs": [],
   "source": [
    "sample2_desc = sample['description']"
   ]
  },
  {
   "cell_type": "code",
   "execution_count": 47,
   "metadata": {
    "collapsed": true
   },
   "outputs": [],
   "source": [
    "tf_vect = TfidfVectorizer(stop_words = stop_words, tokenizer=tokenize, max_features = 2000, ngram_range = (1,2))\n",
    "X2_sample = tf_vect.fit_transform(sample2_desc)\n",
    "words_sample2 = tf_vect.get_feature_names()"
   ]
  },
  {
   "cell_type": "code",
   "execution_count": 48,
   "metadata": {},
   "outputs": [
    {
     "data": {
      "text/plain": [
       "KMeans(algorithm='auto', copy_x=True, init='k-means++', max_iter=300,\n",
       "    n_clusters=2, n_init=5, n_jobs=-1, precompute_distances='auto',\n",
       "    random_state=None, tol=0.0001, verbose=0)"
      ]
     },
     "execution_count": 48,
     "metadata": {},
     "output_type": "execute_result"
    }
   ],
   "source": [
    "kmeans = KMeans(n_clusters = 2, n_init = 5, n_jobs = -1)\n",
    "kmeans.fit(X2_sample)"
   ]
  },
  {
   "cell_type": "code",
   "execution_count": 53,
   "metadata": {},
   "outputs": [
    {
     "name": "stdout",
     "output_type": "stream",
     "text": [
      "0 : appl, acid, fruit, finish, crisp, fresh, citrus, lemon, peach, light, palat, pear, miner, lime, ripe, dri, textur, sweet, aroma, note, pineappl, fruiti, rich, green, nose, orang, honey, balanc, bright, tropic\n",
      "1 : cherri, fruit, tannin, black, aroma, berri, finish, spice, palat, blackberri, ripe, plum, dri, oak, acid, rich, note, dark, blend, raspberri, soft, structur, age, firm, chocol, currant, herb, offer, bodi, year\n"
     ]
    }
   ],
   "source": [
    "common_words = kmeans.cluster_centers_.argsort()[:,-1:-31:-1]\n",
    "for num, centroid in enumerate(common_words):\n",
    "    print(str(num) + ' : ' + ', '.join(words_sample2[word] for word in centroid))"
   ]
  },
  {
   "cell_type": "code",
   "execution_count": 50,
   "metadata": {
    "collapsed": true
   },
   "outputs": [],
   "source": [
    "sample2['cluster'] = kmeans.labels_"
   ]
  },
  {
   "cell_type": "code",
   "execution_count": 51,
   "metadata": {},
   "outputs": [
    {
     "data": {
      "image/png": "[encoded data removed]",
      "text/plain": [
       "<matplotlib.figure.Figure at 0x113aba2e8>"
      ]
     },
     "metadata": {},
     "output_type": "display_data"
    }
   ],
   "source": [
    "clusters = sample2.groupby(['cluster', 'red_or_white']).size()\n",
    "fig2, ax2 = plt.subplots(figsize = (15, 8))\n",
    "sns.heatmap(clusters.unstack(level = 'red_or_white'), ax = ax2, cmap = 'Reds')\n",
    "\n",
    "ax2.set_xlabel('red_or_white', fontdict = {'weight': 'bold', 'size': 24})\n",
    "ax2.set_ylabel('cluster', fontdict = {'weight': 'bold', 'size': 24})\n",
    "for label in ax2.get_xticklabels():\n",
    "    label.set_size(16)\n",
    "    label.set_weight(\"bold\")\n",
    "for label in ax2.get_yticklabels():\n",
    "    label.set_size(16)\n",
    "    label.set_weight(\"bold\")"
   ]
  },
  {
   "cell_type": "code",
   "execution_count": null,
   "metadata": {
    "collapsed": true
   },
   "outputs": [],
   "source": []
  },
  {
   "cell_type": "code",
   "execution_count": null,
   "metadata": {
    "collapsed": true
   },
   "outputs": [],
   "source": []
  }
 ],
 "metadata": {
  "kernelspec": {
   "display_name": "Python 3",
   "language": "python",
   "name": "python3"
  },
  "language_info": {
   "codemirror_mode": {
    "name": "ipython",
    "version": 3
   },
   "file_extension": ".py",
   "mimetype": "text/x-python",
   "name": "python",
   "nbconvert_exporter": "python",
   "pygments_lexer": "ipython3",
   "version": "3.6.3"
  }
 },
 "nbformat": 4,
 "nbformat_minor": 2
}
